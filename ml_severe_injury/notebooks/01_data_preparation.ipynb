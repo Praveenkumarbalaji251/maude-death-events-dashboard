{
 "cells": [
  {
   "cell_type": "code",
   "execution_count": null,
   "id": "f948bcf0",
   "metadata": {},
   "outputs": [
    {
     "ename": "SyntaxError",
     "evalue": "invalid syntax (2895311543.py, line 3)",
     "output_type": "error",
     "traceback": [
      "  \u001b[36mCell\u001b[39m\u001b[36m \u001b[39m\u001b[32mIn[1]\u001b[39m\u001b[32m, line 3\u001b[39m\n\u001b[31m    \u001b[39m\u001b[31mThis notebook will guide you through loading MAUDE MDR data, labeling severe injury cases, and preparing text data for machine learning.\u001b[39m\n         ^\n\u001b[31mSyntaxError\u001b[39m\u001b[31m:\u001b[39m invalid syntax\n"
     ]
    }
   ],
   "source": [
    "# Severe Injury Detection - Data Preparation\n",
    "\n",
    "This notebook will guide you through loading MAUDE MDR data, labeling severe injury cases, and preparing text data for machine learning.\n",
    "\n",
    "## Steps\n",
    "1. Load MDR data (CSV/Excel)\n",
    "2. Define severe injury keywords/phrases\n",
    "3. Label reports as severe/non-severe\n",
    "4. Clean and preprocess text\n",
    "5. Save processed dataset for modeling\n",
    "\n",
    "---"
   ]
  },
  {
   "cell_type": "code",
   "execution_count": null,
   "id": "50efec6c",
   "metadata": {},
   "outputs": [
    {
     "ename": "ModuleNotFoundError",
     "evalue": "No module named 'pandas'",
     "output_type": "error",
     "traceback": [
      "\u001b[31m---------------------------------------------------------------------------\u001b[39m",
      "\u001b[31mModuleNotFoundError\u001b[39m                       Traceback (most recent call last)",
      "\u001b[36mCell\u001b[39m\u001b[36m \u001b[39m\u001b[32mIn[2]\u001b[39m\u001b[32m, line 1\u001b[39m\n\u001b[32m----> \u001b[39m\u001b[32m1\u001b[39m \u001b[38;5;28;01mimport\u001b[39;00m\u001b[38;5;250m \u001b[39m\u001b[34;01mpandas\u001b[39;00m\u001b[38;5;250m \u001b[39m\u001b[38;5;28;01mas\u001b[39;00m\u001b[38;5;250m \u001b[39m\u001b[34;01mpd\u001b[39;00m\n\u001b[32m      2\u001b[39m \u001b[38;5;28;01mimport\u001b[39;00m\u001b[38;5;250m \u001b[39m\u001b[34;01mre\u001b[39;00m\n\u001b[32m      4\u001b[39m \u001b[38;5;66;03m# 1. Load MDR data (update path as needed)\u001b[39;00m\n",
      "\u001b[31mModuleNotFoundError\u001b[39m: No module named 'pandas'"
     ]
    }
   ],
   "source": [
    "!pip install pandas\n",
    "\n",
    "import pandas as pd\n",
    "import re\n",
    "\n",
    "# 1. Load MDR data (update path as needed)\n",
    "data_path = '../data/2025-03_death_events.csv'  # Using March death event CSV file\n",
    "try:\n",
    "    df = pd.read_csv(data_path)\n",
    "except Exception as e:\n",
    "    print(f'Error loading file: {e}')\n",
    "    raise\n",
    "\n",
    "print(f\"Loaded {len(df)} reports.\")\n",
    "\n",
    "# 2. Define severe injury keywords/phrases\n",
    "severe_keywords = [\n",
    "    'death', 'life[- ]?threatening', 'permanent injury', 'amputation', 'stroke',\n",
    "    'cardiac arrest', 'coma', 'paralysis', 'hospitalization', 'ICU', 'intensive care',\n",
    "    'organ failure', 'brain damage', 'fatal', 'severe bleeding', 'major surgery'\n",
    "]\n",
    "\n",
    "# 3. Label reports as severe/non-severe (assume narrative column is 'Event Text' or similar)\n",
    "def is_severe(text):\n",
    "    if pd.isnull(text):\n",
    "        return 0\n",
    "    text = str(text).lower()\n",
    "    for kw in severe_keywords:\n",
    "        if re.search(kw, text):\n",
    "            return 1\n",
    "    return 0\n",
    "\n",
    "narr_col = None\n",
    "for col in df.columns:\n",
    "    if 'event' in col.lower() or 'narrative' in col.lower():\n",
    "        narr_col = col\n",
    "        break\n",
    "if narr_col is None:\n",
    "    raise ValueError('No narrative/event text column found!')\n",
    "\n",
    "df['severe_injury'] = df[narr_col].apply(is_severe)\n",
    "print(df['severe_injury'].value_counts())\n",
    "\n",
    "# 4. Clean and preprocess text (basic)\n",
    "def clean_text(text):\n",
    "    text = str(text).lower()\n",
    "    text = re.sub(r'[^a-z0-9\\s]', ' ', text)\n",
    "    text = re.sub(r'\\s+', ' ', text).strip()\n",
    "    return text\n",
    "\n",
    "df['clean_text'] = df[narr_col].apply(clean_text)\n",
    "\n",
    "# 5. Save processed dataset\n",
    "out_path = '../data/mdr_severe_labeled.csv'\n",
    "df.to_csv(out_path, index=False)\n",
    "print(f\"Saved labeled data to {out_path}\")"
   ]
  }
 ],
 "metadata": {
  "kernelspec": {
   "display_name": ".venv",
   "language": "python",
   "name": "python3"
  },
  "language_info": {
   "codemirror_mode": {
    "name": "ipython",
    "version": 3
   },
   "file_extension": ".py",
   "mimetype": "text/x-python",
   "name": "python",
   "nbconvert_exporter": "python",
   "pygments_lexer": "ipython3",
   "version": "3.13.3"
  }
 },
 "nbformat": 4,
 "nbformat_minor": 5
}
